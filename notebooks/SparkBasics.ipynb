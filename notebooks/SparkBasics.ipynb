{
 "cells": [
  {
   "cell_type": "code",
   "execution_count": 2,
   "id": "031595f2-a422-4ad7-a8bc-d8cae1fe5949",
   "metadata": {},
   "outputs": [
    {
     "name": "stdout",
     "output_type": "stream",
     "text": [
      "+---+-----------+---+------------+\n",
      "|_c0|        _c1|_c2|         _c3|\n",
      "+---+-----------+---+------------+\n",
      "| id|       name|age|        city|\n",
      "|  1|   John Doe| 28|    New York|\n",
      "|  2| Jane Smith| 34| Los Angeles|\n",
      "|  3|Bob Johnson| 23|     Chicago|\n",
      "|  4|   Lisa Ray| 45|     Houston|\n",
      "|  5|  Mark Bale| 31|     Phoenix|\n",
      "|  6| Susan Crow| 27|Philadelphia|\n",
      "|  7| Alice Ford| 22| San Antonio|\n",
      "|  8| Tom Brooks| 36|   San Diego|\n",
      "|  9|   Mary Lee| 41|      Dallas|\n",
      "| 10| Alex White| 30|    San Jose|\n",
      "+---+-----------+---+------------+\n",
      "\n"
     ]
    }
   ],
   "source": [
    "from pyspark.sql import SparkSession\n",
    "spark = SparkSession.builder.appName('Spark Data read').getOrCreate()\n",
    "df = spark.read.csv('D:\\\\0_tech\\\\git_repo\\\\PySpark_template\\\\notebooks\\\\data_text.txt', header=False, inferSchema=True)\n",
    "df.show()"
   ]
  },
  {
   "cell_type": "code",
   "execution_count": 1,
   "id": "791a7280-ac49-4e1f-af94-120e34ad9282",
   "metadata": {},
   "outputs": [
    {
     "ename": "NameError",
     "evalue": "name 'df' is not defined",
     "output_type": "error",
     "traceback": [
      "\u001b[1;31m---------------------------------------------------------------------------\u001b[0m",
      "\u001b[1;31mNameError\u001b[0m                                 Traceback (most recent call last)",
      "Cell \u001b[1;32mIn[1], line 1\u001b[0m\n\u001b[1;32m----> 1\u001b[0m \u001b[38;5;28mprint\u001b[39m(\u001b[43mdf\u001b[49m)\n",
      "\u001b[1;31mNameError\u001b[0m: name 'df' is not defined"
     ]
    }
   ],
   "source": [
    "print(df)"
   ]
  },
  {
   "cell_type": "code",
   "execution_count": null,
   "id": "9d6c4059-e371-4236-b18b-1626e4449612",
   "metadata": {},
   "outputs": [],
   "source": []
  }
 ],
 "metadata": {
  "kernelspec": {
   "display_name": "Python 3 (ipykernel)",
   "language": "python",
   "name": "python3"
  },
  "language_info": {
   "codemirror_mode": {
    "name": "ipython",
    "version": 3
   },
   "file_extension": ".py",
   "mimetype": "text/x-python",
   "name": "python",
   "nbconvert_exporter": "python",
   "pygments_lexer": "ipython3",
   "version": "3.11.7"
  }
 },
 "nbformat": 4,
 "nbformat_minor": 5
}
