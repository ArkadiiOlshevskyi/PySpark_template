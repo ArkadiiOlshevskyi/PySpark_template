{
 "cells": [
  {
   "cell_type": "code",
   "execution_count": 1,
   "id": "596cfb9a-ede9-452f-85a4-de646a95c4c8",
   "metadata": {},
   "outputs": [
    {
     "data": {
      "text/plain": [
       "<pyspark.conf.SparkConf at 0x15bec915b90>"
      ]
     },
     "execution_count": 1,
     "metadata": {},
     "output_type": "execute_result"
    }
   ],
   "source": [
    "from pyspark.conf import SparkConf\n",
    "from pyspark.context import SparkContext\n",
    "conf = SparkConf()\n",
    "conf.setMaster(\"local\").setAppName(\"My app\")"
   ]
  },
  {
   "cell_type": "code",
   "execution_count": 2,
   "id": "0416d22c-6baf-421b-85f5-4c5665b5366f",
   "metadata": {},
   "outputs": [
    {
     "data": {
      "text/plain": [
       "'local'"
      ]
     },
     "execution_count": 2,
     "metadata": {},
     "output_type": "execute_result"
    }
   ],
   "source": [
    "conf.get(\"spark.master\")"
   ]
  },
  {
   "cell_type": "code",
   "execution_count": 3,
   "id": "4c9e62a3-3e90-4b7e-a01e-d29efb47b336",
   "metadata": {},
   "outputs": [
    {
     "data": {
      "text/plain": [
       "'My app'"
      ]
     },
     "execution_count": 3,
     "metadata": {},
     "output_type": "execute_result"
    }
   ],
   "source": [
    "conf.get(\"spark.app.name\")"
   ]
  },
  {
   "cell_type": "code",
   "execution_count": 4,
   "id": "8681809b-5102-45ca-87c3-6ac17e010449",
   "metadata": {},
   "outputs": [
    {
     "data": {
      "text/plain": [
       "'local'"
      ]
     },
     "execution_count": 4,
     "metadata": {},
     "output_type": "execute_result"
    }
   ],
   "source": [
    "sc = SparkContext(conf=conf)\n",
    "sc.master"
   ]
  },
  {
   "cell_type": "code",
   "execution_count": 5,
   "id": "ee209015-c096-4017-b9ad-31f39f50d1b2",
   "metadata": {},
   "outputs": [
    {
     "data": {
      "text/plain": [
       "'My app'"
      ]
     },
     "execution_count": 5,
     "metadata": {},
     "output_type": "execute_result"
    }
   ],
   "source": [
    "sc.appName"
   ]
  },
  {
   "cell_type": "code",
   "execution_count": 6,
   "id": "d3f91286-a81e-4576-ab0f-d61aab8e7b61",
   "metadata": {},
   "outputs": [
    {
     "data": {
      "text/plain": [
       "True"
      ]
     },
     "execution_count": 6,
     "metadata": {},
     "output_type": "execute_result"
    }
   ],
   "source": [
    "sc.sparkHome is None"
   ]
  },
  {
   "cell_type": "code",
   "execution_count": 7,
   "id": "3ff17bbc-00fb-40e5-8824-5d2ef0b637d8",
   "metadata": {},
   "outputs": [
    {
     "name": "stdout",
     "output_type": "stream",
     "text": [
      "ParallelCollectionRDD[0] at readRDDFromFile at PythonRDD.scala:289\n"
     ]
    }
   ],
   "source": [
    "data = [1, 2, 3, 4, 5]\n",
    "distData = sc.parallelize(data, 2)\n",
    "print(distData)\n"
   ]
  },
  {
   "cell_type": "raw",
   "id": "ad5bd434-e92c-4bf3-b8f1-e499a90527a6",
   "metadata": {},
   "source": [
    "distFile = sc.textFile(r\"D:\\0_tech\\git_repo\\PySpark_template\\data\\data_text.txt\")\n",
    "print(distFile)"
   ]
  },
  {
   "cell_type": "code",
   "execution_count": 8,
   "id": "7dcbe628-254c-4739-9663-c77ffc51509b",
   "metadata": {},
   "outputs": [
    {
     "name": "stdout",
     "output_type": "stream",
     "text": [
      "4\n"
     ]
    }
   ],
   "source": [
    "print(2 + 2)"
   ]
  },
  {
   "cell_type": "code",
   "execution_count": null,
   "id": "9aa2cb56-24a5-4a40-977b-39d15e861437",
   "metadata": {},
   "outputs": [],
   "source": []
  }
 ],
 "metadata": {
  "kernelspec": {
   "display_name": "Python 3 (ipykernel)",
   "language": "python",
   "name": "python3"
  },
  "language_info": {
   "codemirror_mode": {
    "name": "ipython",
    "version": 3
   },
   "file_extension": ".py",
   "mimetype": "text/x-python",
   "name": "python",
   "nbconvert_exporter": "python",
   "pygments_lexer": "ipython3",
   "version": "3.11.7"
  }
 },
 "nbformat": 4,
 "nbformat_minor": 5
}
